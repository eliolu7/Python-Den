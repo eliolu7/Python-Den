{
 "cells": [
  {
   "cell_type": "code",
   "execution_count": 9,
   "id": "3bbc4bbb",
   "metadata": {},
   "outputs": [
    {
     "name": "stdout",
     "output_type": "stream",
     "text": [
      "hour = 14\n",
      "minute = 42\n",
      "second = 5\n",
      "microsecond = 566\n"
     ]
    }
   ],
   "source": [
    "# Print a specific timestamp: 14:42:05.000566: \n",
    "from datetime import time \n",
    "t = time(14, 42, 5, 566)\n",
    "# if you type in 05 instead of 5 seconds, you will get an error\n",
    "\n",
    "print(\"hour =\", t.hour)\n",
    "print(\"minute =\", t.minute)\n",
    "print(\"second =\", t.second)\n",
    "print(\"microsecond =\", t.microsecond)"
   ]
  },
  {
   "cell_type": "code",
   "execution_count": 14,
   "id": "14f5cf47",
   "metadata": {},
   "outputs": [
    {
     "name": "stdout",
     "output_type": "stream",
     "text": [
      "year = 2019\n",
      "month = 1\n",
      "day = 28\n",
      "hour = 23\n",
      "minute = 55\n",
      "second = 59\n",
      "microsecond = 1023\n"
     ]
    }
   ],
   "source": [
    "# Print a specific date and timestamp: 2019/01/28 23:55:59.1023: \n",
    "from datetime import datetime \n",
    "dt = datetime(2019,1,28,23,55,59,1023)\n",
    "print(\"year =\", dt.year)\n",
    "print(\"month =\", dt.month)\n",
    "print(\"day =\", dt.day)\n",
    "print(\"hour =\", dt.hour)\n",
    "print(\"minute =\", dt.minute)\n",
    "print(\"second =\", dt.second)\n",
    "print(\"microsecond =\", dt.microsecond)\n"
   ]
  },
  {
   "cell_type": "code",
   "execution_count": 19,
   "id": "5ff4a499",
   "metadata": {},
   "outputs": [
    {
     "name": "stdout",
     "output_type": "stream",
     "text": [
      "current year = 2023\n",
      "current month = 7\n",
      "current day = 4\n"
     ]
    }
   ],
   "source": [
    "# Print current datetime:\n",
    "from datetime import datetime,date\n",
    "today = datetime.now()\n",
    "print(\"current year =\",today.year)\n",
    "print(\"current month =\", today.month)\n",
    "print(\"current day =\", today.day)\n"
   ]
  },
  {
   "cell_type": "code",
   "execution_count": 26,
   "id": "7b41710d",
   "metadata": {},
   "outputs": [
    {
     "name": "stdout",
     "output_type": "stream",
     "text": [
      "18 January 2017\n",
      "Wed\n"
     ]
    }
   ],
   "source": [
    "# Print today's date (current day) and the current year, month, day:\n",
    "from datetime import datetime\n",
    "\n",
    "# Date.\n",
    "date = datetime(2017,1,18)\n",
    "\n",
    "# Using strftime to only print DAY, MONTH, YEAR. \n",
    "t = date.strftime(\"%d %B %Y\")\n",
    "\n",
    "# Using strftime to only the name of the day.\n",
    "day = date.strftime(\"%a\")\n",
    "print(t)\n",
    "print (day)"
   ]
  },
  {
   "cell_type": "code",
   "execution_count": 28,
   "id": "5fa417fd",
   "metadata": {},
   "outputs": [
    {
     "data": {
      "text/html": [
       "<div>\n",
       "<style scoped>\n",
       "    .dataframe tbody tr th:only-of-type {\n",
       "        vertical-align: middle;\n",
       "    }\n",
       "\n",
       "    .dataframe tbody tr th {\n",
       "        vertical-align: top;\n",
       "    }\n",
       "\n",
       "    .dataframe thead th {\n",
       "        text-align: right;\n",
       "    }\n",
       "</style>\n",
       "<table border=\"1\" class=\"dataframe\">\n",
       "  <thead>\n",
       "    <tr style=\"text-align: right;\">\n",
       "      <th></th>\n",
       "      <th>Date</th>\n",
       "      <th>Week_Day</th>\n",
       "      <th>Day_name</th>\n",
       "      <th>Month_name</th>\n",
       "    </tr>\n",
       "  </thead>\n",
       "  <tbody>\n",
       "    <tr>\n",
       "      <th>0</th>\n",
       "      <td>2008-01-01</td>\n",
       "      <td>1</td>\n",
       "      <td>Tuesday</td>\n",
       "      <td>January</td>\n",
       "    </tr>\n",
       "    <tr>\n",
       "      <th>1</th>\n",
       "      <td>2008-01-02</td>\n",
       "      <td>2</td>\n",
       "      <td>Wednesday</td>\n",
       "      <td>January</td>\n",
       "    </tr>\n",
       "    <tr>\n",
       "      <th>2</th>\n",
       "      <td>2008-01-03</td>\n",
       "      <td>3</td>\n",
       "      <td>Thursday</td>\n",
       "      <td>January</td>\n",
       "    </tr>\n",
       "    <tr>\n",
       "      <th>3</th>\n",
       "      <td>2008-01-04</td>\n",
       "      <td>4</td>\n",
       "      <td>Friday</td>\n",
       "      <td>January</td>\n",
       "    </tr>\n",
       "    <tr>\n",
       "      <th>4</th>\n",
       "      <td>2008-01-05</td>\n",
       "      <td>5</td>\n",
       "      <td>Saturday</td>\n",
       "      <td>January</td>\n",
       "    </tr>\n",
       "    <tr>\n",
       "      <th>...</th>\n",
       "      <td>...</td>\n",
       "      <td>...</td>\n",
       "      <td>...</td>\n",
       "      <td>...</td>\n",
       "    </tr>\n",
       "    <tr>\n",
       "      <th>56</th>\n",
       "      <td>2008-02-26</td>\n",
       "      <td>1</td>\n",
       "      <td>Tuesday</td>\n",
       "      <td>February</td>\n",
       "    </tr>\n",
       "    <tr>\n",
       "      <th>57</th>\n",
       "      <td>2008-02-27</td>\n",
       "      <td>2</td>\n",
       "      <td>Wednesday</td>\n",
       "      <td>February</td>\n",
       "    </tr>\n",
       "    <tr>\n",
       "      <th>58</th>\n",
       "      <td>2008-02-28</td>\n",
       "      <td>3</td>\n",
       "      <td>Thursday</td>\n",
       "      <td>February</td>\n",
       "    </tr>\n",
       "    <tr>\n",
       "      <th>59</th>\n",
       "      <td>2008-02-29</td>\n",
       "      <td>4</td>\n",
       "      <td>Friday</td>\n",
       "      <td>February</td>\n",
       "    </tr>\n",
       "    <tr>\n",
       "      <th>60</th>\n",
       "      <td>2008-03-01</td>\n",
       "      <td>5</td>\n",
       "      <td>Saturday</td>\n",
       "      <td>March</td>\n",
       "    </tr>\n",
       "  </tbody>\n",
       "</table>\n",
       "<p>61 rows × 4 columns</p>\n",
       "</div>"
      ],
      "text/plain": [
       "         Date  Week_Day   Day_name Month_name\n",
       "0  2008-01-01         1    Tuesday    January\n",
       "1  2008-01-02         2  Wednesday    January\n",
       "2  2008-01-03         3   Thursday    January\n",
       "3  2008-01-04         4     Friday    January\n",
       "4  2008-01-05         5   Saturday    January\n",
       "..        ...       ...        ...        ...\n",
       "56 2008-02-26         1    Tuesday   February\n",
       "57 2008-02-27         2  Wednesday   February\n",
       "58 2008-02-28         3   Thursday   February\n",
       "59 2008-02-29         4     Friday   February\n",
       "60 2008-03-01         5   Saturday      March\n",
       "\n",
       "[61 rows x 4 columns]"
      ]
     },
     "execution_count": 28,
     "metadata": {},
     "output_type": "execute_result"
    }
   ],
   "source": [
    "# Import the pandas library\n",
    "import pandas as pd\n",
    "\n",
    "# Set the data range\n",
    "drange = pd.date_range(start='2008-01-01', end='2008-03-01')\n",
    "\n",
    "# Create a Pandas DataFrame\n",
    "dframe = pd.DataFrame()\n",
    "\n",
    "# Specify the variables\n",
    "df['Date'] = drange\n",
    "df['Week_Day'] = pd.to_datetime(dr).weekday\n",
    "df['Day_name'] = pd.to_datetime(dr).strftime(\"%A\")\n",
    "df['Month_name'] = pd.to_datetime(dr).strftime(\"%B\")\n",
    "\n",
    "# View the DataFrame\n",
    "df"
   ]
  },
  {
   "cell_type": "code",
   "execution_count": null,
   "id": "fd9b3c2d",
   "metadata": {},
   "outputs": [],
   "source": []
  }
 ],
 "metadata": {
  "kernelspec": {
   "display_name": "Python 3 (ipykernel)",
   "language": "python",
   "name": "python3"
  },
  "language_info": {
   "codemirror_mode": {
    "name": "ipython",
    "version": 3
   },
   "file_extension": ".py",
   "mimetype": "text/x-python",
   "name": "python",
   "nbconvert_exporter": "python",
   "pygments_lexer": "ipython3",
   "version": "3.10.9"
  }
 },
 "nbformat": 4,
 "nbformat_minor": 5
}
